{
 "cells": [
  {
   "cell_type": "code",
   "execution_count": null,
   "metadata": {},
   "outputs": [],
   "source": [
    "# One day you decide to arrange all your cats in a giant circle.\n",
    "# Initially, none of your cats have any hats on.\n",
    "# You walk around the circle 100 times, always starting at the same spot, with the first cat (cat # 1).\n",
    "# Every time you stop at a cat, you either put a hat on it if it doesn’t have one on, or you take its hat off if it has one on.\n",
    "# In The first round, you stop at every cat, placing a hat on each one.\n",
    "# In The second round, you only stop at every second cat (#2, #4, #6, #8, etc.).\n",
    "# In The third round, you only stop at every third cat(#3, #6, #9, #12, etc.).\n",
    "# You continue this process until you’ve made 100 rounds around the cats (e.g., you only visit the 100th cat).\n",
    "# Write a program that simply outputs which cats have hats at the end."
   ]
  },
  {
   "cell_type": "code",
   "execution_count": 40,
   "metadata": {},
   "outputs": [
    {
     "name": "stdout",
     "output_type": "stream",
     "text": [
      "Cat # 1 has hat on\n",
      "Cat # 4 has hat on\n",
      "Cat # 9 has hat on\n",
      "Cat # 16 has hat on\n",
      "Cat # 25 has hat on\n",
      "Cat # 36 has hat on\n",
      "Cat # 49 has hat on\n",
      "Cat # 64 has hat on\n",
      "Cat # 81 has hat on\n",
      "Cat # 100 has hat on\n"
     ]
    }
   ],
   "source": [
    "# create dictionary where key is cat number (from 1 to 100) and value is hat on (1 after 1st round) \n",
    "cats_hats = {}\n",
    "for i in range(1, 101):\n",
    "    cats_hats[i] = 1\n",
    "\n",
    "# iterate 99 times to check value (0 or 1) and change every second, third, fourth, etc. value during each iteration\n",
    "for i in range(2, 101):\n",
    "    for j in range(i-1, 100, i):\n",
    "        if cats_hats[j+1] == 0:\n",
    "            cats_hats[j+1] = 1\n",
    "        else:\n",
    "            cats_hats[j+1] = 0\n",
    "\n",
    "# print key number which have value 1 after all iterations\n",
    "for key, value in cats_nohats.items():\n",
    "    if value == 1:\n",
    "        print(\"Cat #\", key, \"has hat on\")"
   ]
  }
 ],
 "metadata": {
  "kernelspec": {
   "display_name": "Python 3",
   "language": "python",
   "name": "python3"
  },
  "language_info": {
   "codemirror_mode": {
    "name": "ipython",
    "version": 3
   },
   "file_extension": ".py",
   "mimetype": "text/x-python",
   "name": "python",
   "nbconvert_exporter": "python",
   "pygments_lexer": "ipython3",
   "version": "3.10.7"
  },
  "orig_nbformat": 4
 },
 "nbformat": 4,
 "nbformat_minor": 2
}
